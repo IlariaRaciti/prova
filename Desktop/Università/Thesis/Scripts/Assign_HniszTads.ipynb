{
 "cells": [
  {
   "cell_type": "markdown",
   "metadata": {},
   "source": [
    "# Allocation of Genes to Hnisz Tads"
   ]
  },
  {
   "cell_type": "markdown",
   "metadata": {},
   "source": [
    "#### HNISZ TADS"
   ]
  },
  {
   "cell_type": "code",
   "execution_count": 46,
   "metadata": {
    "collapsed": false
   },
   "outputs": [
    {
     "name": "stdout",
     "output_type": "stream",
     "text": [
      "the number of Hnisz tads is 13908\n"
     ]
    }
   ],
   "source": [
    "# hTADS = name|chromosome|start|end\n",
    "\n",
    "def hTAD_parser(line):\n",
    "    s = line.strip().split(\"\\t\")\n",
    "    name = s[0]\n",
    "    chrom = int(s[1])\n",
    "    start = int(s[2])\n",
    "    end = int(s[3])\n",
    "    return (name, chrom, start, end)\n",
    "\n",
    "hTADS = [(x[0], x[1], x[2], x[3]) for x in \n",
    "               [hTAD_parser(x) for x in open(\"C:\\\\Users\\\\ilaria\\\\Desktop\\\\Università\\\\Thesis\\\\data\\\\ConstitutiveNeighborhoods.txt\")]]\n",
    "\n",
    "print ('the number of Hnisz tads is', str(len(hTADS))) "
   ]
  },
  {
   "cell_type": "markdown",
   "metadata": {},
   "source": [
    "#### GENES DATA"
   ]
  },
  {
   "cell_type": "code",
   "execution_count": 18,
   "metadata": {
    "collapsed": false
   },
   "outputs": [
    {
     "name": "stdout",
     "output_type": "stream",
     "text": [
      "the total number of genes is 20462\n"
     ]
    }
   ],
   "source": [
    "# genes = .name|.chrom|.pos|\n",
    "\n",
    "class Gene:\n",
    "    def __init__(self, line):\n",
    "        s = line.strip().split(\"\\t\")\n",
    "        self.name = s[0]\n",
    "        self.chrom = int(s[1])\n",
    "        self.pos = int (s[2])\n",
    "    def clustera_hnisz (self, c):\n",
    "        self.cluster = c\n",
    "\n",
    "genes = [Gene(x) for x in open(\"C:\\\\Users\\\\ilaria\\\\Desktop\\\\Università\\\\Thesis\\\\data\\\\coordinates_tcga_clean.tsv\")]\n",
    "\n",
    "print ('the total number of genes is', str(len(genes))) "
   ]
  },
  {
   "cell_type": "markdown",
   "metadata": {},
   "source": [
    "We assign each gene to the smallest Hnisz Tads it belong to. "
   ]
  },
  {
   "cell_type": "code",
   "execution_count": 35,
   "metadata": {
    "collapsed": false
   },
   "outputs": [
    {
     "name": "stdout",
     "output_type": "stream",
     "text": [
      "2  :  0:00:13.260432\n",
      "4  :  0:00:07.125065\n",
      "6  :  0:00:07.376243\n",
      "8  :  0:00:06.097320\n",
      "10  :  0:00:05.946227\n",
      "12  :  0:00:08.243860\n",
      "14  :  0:00:03.901771\n",
      "16  :  0:00:05.232736\n",
      "18  :  0:00:04.800397\n",
      "20  :  0:00:06.651729\n",
      "22  :  0:00:02.988139\n",
      "24  :  0:00:03.622576\n"
     ]
    }
   ],
   "source": [
    "from datetime import datetime\n",
    "\n",
    "N_chr = max([x.chrom for x in genes])\n",
    "\n",
    "genes_tad = []\n",
    "t1 = datetime.now()\n",
    "for i in range(1, N_chr+1):\n",
    "    set_genes = [t for t in genes if t.chrom == i]\n",
    "    \n",
    "    for row in set_genes:\n",
    "        candidates = [t for t in hTADS if t[2] < row.pos and t[3] > row.pos]\n",
    "        if candidates == []:\n",
    "            genes_tad.append((row.name,i,row.pos,'U'))\n",
    "        else:\n",
    "            genes_tad.append((row.name,i,row.pos,int([t for t in candidates \n",
    "                                                      if (t[3]-t[2])==min(list(set([x[3]-x[2] for x in candidates])))][0][0])))\n",
    "    \n",
    "    if (i%2)==0:\n",
    "        t2 = datetime.now()\n",
    "        print (str(i) ,\" : \", str((t2-t1)))\n",
    "        t1 = datetime.now()\n"
   ]
  },
  {
   "cell_type": "code",
   "execution_count": 38,
   "metadata": {
    "collapsed": false
   },
   "outputs": [
    {
     "name": "stdout",
     "output_type": "stream",
     "text": [
      "20132 genes are assigned to a Hnisz tad\n",
      "330 genes are not in a Hnisz tad\n"
     ]
    }
   ],
   "source": [
    "# Subdivide genes that are WITHIN  a Hnisz tad and genes that are NOT\n",
    "\n",
    "notWITHIN = [x for x in genes_tad if x[3] == 'U']\n",
    "WITHIN = [x for x in genes_tad if x[3] != 'U']\n",
    "\n",
    "\n",
    "print (len(WITHIN), 'genes are assigned to a Hnisz tad') \n",
    "print (len(notWITHIN), 'genes are not in a Hnisz tad') \n"
   ]
  },
  {
   "cell_type": "code",
   "execution_count": 45,
   "metadata": {
    "collapsed": false
   },
   "outputs": [],
   "source": [
    "# GenesInHniszTads = name|chromosome|position|HniszTad\n",
    "\n",
    "outfile = open(\"C:\\\\Users\\\\ilaria\\\\Desktop\\\\Università\\\\Thesis\\\\data\\\\GenesInHniszTads.txt\", \"w\")\n",
    "for x in genes_tad:\n",
    "    outfile.write(\"\\t\".join([str(y) for y in x])+\"\\n\")\n",
    "outfile.close()\n"
   ]
  }
 ],
 "metadata": {
  "kernelspec": {
   "display_name": "Python [conda root]",
   "language": "python",
   "name": "conda-root-py"
  },
  "language_info": {
   "codemirror_mode": {
    "name": "ipython",
    "version": 3
   },
   "file_extension": ".py",
   "mimetype": "text/x-python",
   "name": "python",
   "nbconvert_exporter": "python",
   "pygments_lexer": "ipython3",
   "version": "3.5.2"
  }
 },
 "nbformat": 4,
 "nbformat_minor": 1
}
